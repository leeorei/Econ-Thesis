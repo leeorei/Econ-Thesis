{
 "cells": [
  {
   "cell_type": "markdown",
   "metadata": {},
   "source": [
    "# New Script to Combine and Clean the Data Into a Single CSV for the Regression(s)"
   ]
  },
  {
   "cell_type": "markdown",
   "metadata": {},
   "source": [
    "## Packages"
   ]
  },
  {
   "cell_type": "code",
   "execution_count": 1,
   "metadata": {},
   "outputs": [],
   "source": [
    "import numpy as np\n",
    "import pandas as pd\n",
    "\n",
    "import plotly.graph_objects as go\n",
    "\n",
    "import statsmodels.api as sm\n",
    "\n",
    "from stargazer.stargazer import Stargazer"
   ]
  },
  {
   "cell_type": "markdown",
   "metadata": {},
   "source": [
    "## CSV Files"
   ]
  },
  {
   "cell_type": "code",
   "execution_count": 2,
   "metadata": {},
   "outputs": [],
   "source": [
    "health = pd.read_csv('oecd health.csv')\n",
    "\n",
    "alc = pd.read_csv('alcohol.csv', usecols=['TIME', 'Value'])\n",
    "alc.TIME = alc.TIME.astype(int)\n",
    "alc.columns = ['TIME', 'alc']\n",
    "\n",
    "elderly = pd.read_csv('elderly.csv', usecols=['TIME', 'Value'])\n",
    "elderly.TIME = elderly.TIME.astype(int)\n",
    "elderly.columns = ['TIME', 'elderly']\n",
    "\n",
    "income = pd.read_csv('HHDI.csv', usecols=['TIME', 'Value'])\n",
    "income.TIME = income.TIME.astype(int)\n",
    "income.columns = ['TIME', 'income']\n",
    "\n",
    "life_exp = pd.read_csv('life expectancy.csv', usecols=['TIME', 'Value'])\n",
    "life_exp.TIME = life_exp.TIME.astype(int)\n",
    "life_exp.columns = ['TIME', 'life_exp']\n",
    "\n",
    "life_exp65m = pd.read_csv('life_exp at 65 men.csv', usecols=['TIME', 'Value'])\n",
    "life_exp65m.TIME = life_exp65m.TIME.astype(int)\n",
    "life_exp65m.columns = ['TIME', 'life_exp65']\n",
    "\n",
    "life_exp65w = pd.read_csv('life_exp at 65 women.csv', usecols=['TIME', 'Value'])\n",
    "life_exp65w.TIME = life_exp65w.TIME.astype(int)\n",
    "life_exp65w.columns = ['TIME', 'life_exp65']\n",
    "\n",
    "unemp = pd.read_csv('unemployment.csv', usecols=['TIME', 'Value'])\n",
    "unemp.TIME = unemp.TIME.astype(int)\n",
    "unemp.columns = ['TIME', 'unemp']"
   ]
  },
  {
   "cell_type": "code",
   "execution_count": 3,
   "metadata": {},
   "outputs": [],
   "source": [
    "# averaging out the life expenctancy at 65 between men and women, then creating that dataset\n",
    "life_exp65 = []\n",
    "for time in life_exp65m.index.tolist():\n",
    "    avg = np.mean([life_exp65m.loc[time,'life_exp65'], life_exp65w.loc[time,'life_exp65']])\n",
    "    life_exp65.append(avg)\n",
    "    \n",
    "life_exp65 = pd.DataFrame([life_exp65m.TIME.tolist(), life_exp65]).transpose()\n",
    "life_exp65.columns = ['TIME', 'life_exp65']\n",
    "life_exp65.TIME = life_exp65.TIME.astype(int)"
   ]
  },
  {
   "cell_type": "markdown",
   "metadata": {},
   "source": [
    "# Cleaning and Combining Data Together"
   ]
  },
  {
   "cell_type": "code",
   "execution_count": 4,
   "metadata": {},
   "outputs": [],
   "source": [
    "# merging all the datasets together\n",
    "full = alc.merge(elderly, on='TIME')\n",
    "full = full.merge(income, on='TIME')\n",
    "full = full.merge(life_exp, on='TIME')\n",
    "full = full.merge(life_exp65, on='TIME')\n",
    "full = full.merge(unemp, on='TIME')\n",
    "\n",
    "#renaming the columns correctly\n",
    "# full.columns = col_names\n",
    "\n",
    "# dropping null values for missing data\n",
    "full = full.dropna().reset_index(drop=True)\n",
    "\n",
    "# adding linear time trend for later\n",
    "full['t'] = full.index+1\n",
    "\n",
    "# defining the col_names variable for later\n",
    "col_names = pd.Series(full.columns).drop(0).tolist()"
   ]
  },
  {
   "cell_type": "code",
   "execution_count": 5,
   "metadata": {},
   "outputs": [],
   "source": [
    "## adding the dependent variables to the mix\n",
    "\n",
    "# extracting the relevant data types from the health dataset and forcing them into a new dataset, then adding them to the \n",
    "# 'full' dataset\n",
    "# also creating a list of all the possible responses to keep for later to change the regressions if wanted\n",
    "responses = []\n",
    "for sub in health.SUBJECT.unique():\n",
    "    temp = health[health.SUBJECT==sub]\n",
    "    for m in temp.MEASURE.unique():\n",
    "        if m=='PC_HEALTHXP':\n",
    "            continue\n",
    "        cols = ['TIME', m+'_'+sub]\n",
    "        df = temp[temp.MEASURE==m][['TIME', 'Value']]\n",
    "        df.columns = cols\n",
    "        full = full.merge(df, on='TIME')\n",
    "        responses.append(m+'_'+sub)\n",
    "        \n",
    "responses = np.array(responses)\n",
    "responses.sort()"
   ]
  },
  {
   "cell_type": "code",
   "execution_count": 6,
   "metadata": {},
   "outputs": [],
   "source": [
    "# # creating a list of all the dependent variables of interest for the models\n",
    "# dependents = []\n",
    "# for name in full.columns:\n",
    "#     if name.startswith('PC_GDP'):\n",
    "#         dependents.append(name)"
   ]
  },
  {
   "cell_type": "markdown",
   "metadata": {},
   "source": [
    "## Adding in Dummy Variables"
   ]
  },
  {
   "cell_type": "markdown",
   "metadata": {},
   "source": [
    "### Dummy variable for when the ACA took effect (namely in 2014, but only in 2014 as that created a massive shift)"
   ]
  },
  {
   "cell_type": "code",
   "execution_count": 7,
   "metadata": {},
   "outputs": [],
   "source": [
    "aca = []\n",
    "for year in full.TIME:\n",
    "    if year == 2014:\n",
    "        aca.append(1)\n",
    "    else:\n",
    "        aca.append(0)\n",
    "\n",
    "full['ACA'] = aca"
   ]
  },
  {
   "cell_type": "markdown",
   "metadata": {},
   "source": [
    "### Adding in the recession dummy"
   ]
  },
  {
   "cell_type": "code",
   "execution_count": 8,
   "metadata": {},
   "outputs": [],
   "source": [
    "recession = []\n",
    "for year in full.TIME:\n",
    "    if ( \n",
    "        (int(year)==1960) or\n",
    "        (int(year)==1961) or\n",
    "        (int(year)==1969) or\n",
    "        (int(year)==1970) or\n",
    "        (int(year)==1973) or\n",
    "        (int(year)==1974) or\n",
    "        (int(year)==1975) or\n",
    "        (int(year)==1980) or\n",
    "        (int(year)==1981) or\n",
    "        (int(year)==1982) or\n",
    "        (int(year)==1990) or\n",
    "        (int(year)==1991) or\n",
    "        (int(year)==2001) or\n",
    "        (int(year)==2007) or\n",
    "        (int(year)==2008) or\n",
    "        (int(year)==2009)\n",
    "       ):\n",
    "        recession.append(1)\n",
    "    else:\n",
    "        recession.append(0)\n",
    "        \n",
    "full['recession'] = recession"
   ]
  },
  {
   "cell_type": "markdown",
   "metadata": {},
   "source": [
    "### Adding in dummies for health crises, specifically pandemics and epidemics in the US"
   ]
  },
  {
   "cell_type": "code",
   "execution_count": 9,
   "metadata": {},
   "outputs": [],
   "source": [
    "## adding a variable for the second measles outbreak\n",
    "\n",
    "measles = []\n",
    "for year in full.TIME:\n",
    "    if (int(year)>=1981 and int(year)<=1991):\n",
    "        measles.append(1)\n",
    "    else:\n",
    "        measles.append(0)\n",
    "\n",
    "full['measles'] = measles"
   ]
  },
  {
   "cell_type": "code",
   "execution_count": 10,
   "metadata": {},
   "outputs": [],
   "source": [
    "## adding a variable for contaminated water in Milwaukee\n",
    "\n",
    "water = []\n",
    "for year in full.TIME:\n",
    "    if (int(year)==1993):\n",
    "        water.append(1)\n",
    "    else:\n",
    "        water.append(0)\n",
    "\n",
    "full['water'] = water"
   ]
  },
  {
   "cell_type": "code",
   "execution_count": 11,
   "metadata": {},
   "outputs": [],
   "source": [
    "## adding dummy for H1N1 in 2009\n",
    "\n",
    "h1n1 = []\n",
    "for year in full.TIME:\n",
    "    if (int(year) == 2009):\n",
    "        h1n1.append(1)\n",
    "    else:\n",
    "        h1n1.append(0)\n",
    "        \n",
    "full['H1N1'] = h1n1"
   ]
  },
  {
   "cell_type": "code",
   "execution_count": 12,
   "metadata": {},
   "outputs": [],
   "source": [
    "## adding a dummy for whooping cough in 2010 and 2014\n",
    "\n",
    "whoop = []\n",
    "for year in full.TIME:\n",
    "    if (int(year)==2010 or int(year)==2014):\n",
    "        whoop.append(1)\n",
    "    else:\n",
    "        whoop.append(0)\n",
    "        \n",
    "full['whoop'] = whoop"
   ]
  },
  {
   "cell_type": "code",
   "execution_count": 13,
   "metadata": {},
   "outputs": [],
   "source": [
    "## adding a dummy for the the HIV/AIDS epidemic\n",
    "\n",
    "aids = []\n",
    "for year in full.TIME:\n",
    "    if (int(year) >= 1981):\n",
    "        aids.append(1)\n",
    "    else:\n",
    "        aids.append(0)\n",
    "\n",
    "full['AIDS'] = aids"
   ]
  },
  {
   "cell_type": "code",
   "execution_count": 14,
   "metadata": {},
   "outputs": [],
   "source": [
    "# ensuring the entire dataset has types float\n",
    "full = full.astype(float)"
   ]
  },
  {
   "cell_type": "markdown",
   "metadata": {},
   "source": [
    "# Creating the Lists of all the Control Variables, the Variables of Interest, and the Dependent Variables to clean the final dataset"
   ]
  },
  {
   "cell_type": "code",
   "execution_count": 15,
   "metadata": {},
   "outputs": [],
   "source": [
    "controls = col_names + ['ACA']\n",
    "\n",
    "interest = ['recession', 'measles', 'water', 'H1N1', 'whoop', 'AIDS']\n",
    "\n",
    "independent = controls + interest\n",
    "\n",
    "# the dependent list was already created"
   ]
  },
  {
   "cell_type": "code",
   "execution_count": 16,
   "metadata": {},
   "outputs": [],
   "source": [
    "# adding in first and second differences to the data so that they can be used in the regression more easily\n",
    "\n",
    "diffs = []\n",
    "\n",
    "for name in responses:\n",
    "    full[name+'_diff'] = full[name].diff()\n",
    "    full[name+'_diff2'] = full[name].diff().diff()\n",
    "    diffs.append(name+'_diff')\n",
    "    diffs.append(name+'_diff2')"
   ]
  },
  {
   "cell_type": "code",
   "execution_count": 17,
   "metadata": {},
   "outputs": [],
   "source": [
    "# creating the final columns for the dataset that will eventually be uses\n",
    "cols = controls + interest + responses.tolist() + diffs"
   ]
  },
  {
   "cell_type": "code",
   "execution_count": 18,
   "metadata": {},
   "outputs": [],
   "source": [
    "# keeping only the relevant columns for the regression and exporting data to a csv\n",
    "\n",
    "full = full[['TIME']+cols].dropna().reset_index(drop=True)\n",
    "\n",
    "# adding linear time trend\n",
    "full['t'] = full.index+1"
   ]
  },
  {
   "cell_type": "markdown",
   "metadata": {},
   "source": [
    "# Regressions"
   ]
  },
  {
   "cell_type": "code",
   "execution_count": 19,
   "metadata": {
    "scrolled": true
   },
   "outputs": [
    {
     "name": "stdout",
     "output_type": "stream",
     "text": [
      "                              OLS Regression Results                              \n",
      "==================================================================================\n",
      "Dep. Variable:     PC_GDP_COMPULSORY_diff   R-squared:                       0.985\n",
      "Model:                                OLS   Adj. R-squared:                  0.978\n",
      "Method:                     Least Squares   F-statistic:                     3391.\n",
      "Date:                    Sun, 13 Dec 2020   Prob (F-statistic):           1.59e-44\n",
      "Time:                            19:08:21   Log-Likelihood:                 38.709\n",
      "No. Observations:                      46   AIC:                            -47.42\n",
      "Df Residuals:                          31   BIC:                            -19.99\n",
      "Df Model:                              14                                         \n",
      "Covariance Type:                      HC1                                         \n",
      "==============================================================================\n",
      "                 coef    std err          z      P>|z|      [0.025      0.975]\n",
      "------------------------------------------------------------------------------\n",
      "const         11.8634     13.640      0.870      0.384     -14.870      38.597\n",
      "alc           -0.0182      0.095     -0.191      0.848      -0.205       0.169\n",
      "elderly       -0.0200      0.103     -0.195      0.846      -0.221       0.181\n",
      "income     -4.625e-05   5.17e-05     -0.894      0.371      -0.000    5.52e-05\n",
      "life_exp      -0.1803      0.237     -0.760      0.447      -0.646       0.285\n",
      "life_exp65     0.0938      0.313      0.300      0.764      -0.520       0.707\n",
      "unemp          0.0226      0.022      1.011      0.312      -0.021       0.066\n",
      "t              0.0767      0.083      0.925      0.355      -0.086       0.239\n",
      "ACA            5.8767      0.125     47.166      0.000       5.633       6.121\n",
      "recession      0.1905      0.045      4.200      0.000       0.102       0.279\n",
      "measles        0.1474      0.158      0.931      0.352      -0.163       0.458\n",
      "water          0.1438      0.086      1.668      0.095      -0.025       0.313\n",
      "H1N1           0.2695      0.099      2.709      0.007       0.074       0.464\n",
      "whoop         -0.1084      0.113     -0.958      0.338      -0.330       0.113\n",
      "AIDS          -0.2057      0.219     -0.938      0.348      -0.636       0.224\n",
      "==============================================================================\n",
      "Omnibus:                        0.617   Durbin-Watson:                   1.323\n",
      "Prob(Omnibus):                  0.734   Jarque-Bera (JB):                0.448\n",
      "Skew:                           0.237   Prob(JB):                        0.799\n",
      "Kurtosis:                       2.910   Cond. No.                     1.99e+07\n",
      "==============================================================================\n",
      "\n",
      "Warnings:\n",
      "[1] Standard Errors are heteroscedasticity robust (HC1)\n",
      "[2] The condition number is large, 1.99e+07. This might indicate that there are\n",
      "strong multicollinearity or other numerical problems.\n",
      "                            OLS Regression Results                            \n",
      "==============================================================================\n",
      "Dep. Variable:     PC_GDP_OOPEXP_diff   R-squared:                       0.521\n",
      "Model:                            OLS   Adj. R-squared:                  0.304\n",
      "Method:                 Least Squares   F-statistic:                     23.15\n",
      "Date:                Sun, 13 Dec 2020   Prob (F-statistic):           6.20e-12\n",
      "Time:                        19:08:21   Log-Likelihood:                 88.827\n",
      "No. Observations:                  46   AIC:                            -147.7\n",
      "Df Residuals:                      31   BIC:                            -120.2\n",
      "Df Model:                          14                                         \n",
      "Covariance Type:                  HC1                                         \n",
      "==============================================================================\n",
      "                 coef    std err          z      P>|z|      [0.025      0.975]\n",
      "------------------------------------------------------------------------------\n",
      "const         -5.8878      5.284     -1.114      0.265     -16.244       4.468\n",
      "alc            0.0183      0.037      0.494      0.621      -0.054       0.091\n",
      "elderly        0.0136      0.028      0.491      0.623      -0.041       0.068\n",
      "income      1.408e-05   1.93e-05      0.729      0.466   -2.38e-05     5.2e-05\n",
      "life_exp       0.1397      0.095      1.468      0.142      -0.047       0.326\n",
      "life_exp65    -0.3007      0.116     -2.600      0.009      -0.527      -0.074\n",
      "unemp          0.0059      0.005      1.082      0.279      -0.005       0.017\n",
      "t             -0.0075      0.029     -0.258      0.797      -0.064       0.049\n",
      "ACA           -0.0205      0.028     -0.723      0.470      -0.076       0.035\n",
      "recession      0.0468      0.019      2.515      0.012       0.010       0.083\n",
      "measles        0.0392      0.046      0.848      0.396      -0.051       0.130\n",
      "water         -0.0509      0.028     -1.803      0.071      -0.106       0.004\n",
      "H1N1           0.0154      0.028      0.547      0.584      -0.040       0.071\n",
      "whoop         -0.0219      0.020     -1.080      0.280      -0.062       0.018\n",
      "AIDS          -0.0603      0.066     -0.916      0.360      -0.189       0.069\n",
      "==============================================================================\n",
      "Omnibus:                        3.146   Durbin-Watson:                   2.125\n",
      "Prob(Omnibus):                  0.207   Jarque-Bera (JB):                2.080\n",
      "Skew:                           0.369   Prob(JB):                        0.353\n",
      "Kurtosis:                       3.734   Cond. No.                     1.99e+07\n",
      "==============================================================================\n",
      "\n",
      "Warnings:\n",
      "[1] Standard Errors are heteroscedasticity robust (HC1)\n",
      "[2] The condition number is large, 1.99e+07. This might indicate that there are\n",
      "strong multicollinearity or other numerical problems.\n",
      "                            OLS Regression Results                            \n",
      "==============================================================================\n",
      "Dep. Variable:        PC_GDP_TOT_diff   R-squared:                       0.575\n",
      "Model:                            OLS   Adj. R-squared:                  0.383\n",
      "Method:                 Least Squares   F-statistic:                     15.46\n",
      "Date:                Sun, 13 Dec 2020   Prob (F-statistic):           1.15e-09\n",
      "Time:                        19:08:22   Log-Likelihood:                 17.617\n",
      "No. Observations:                  46   AIC:                            -5.234\n",
      "Df Residuals:                      31   BIC:                             22.20\n",
      "Df Model:                          14                                         \n",
      "Covariance Type:                  HC1                                         \n",
      "==============================================================================\n",
      "                 coef    std err          z      P>|z|      [0.025      0.975]\n",
      "------------------------------------------------------------------------------\n",
      "const         -5.5188     21.386     -0.258      0.796     -47.434      36.396\n",
      "alc           -0.0929      0.131     -0.710      0.477      -0.349       0.163\n",
      "elderly        0.0415      0.144      0.288      0.774      -0.241       0.324\n",
      "income     -1.213e-05   8.23e-05     -0.147      0.883      -0.000       0.000\n",
      "life_exp       0.2256      0.361      0.625      0.532      -0.481       0.933\n",
      "life_exp65    -0.6839      0.473     -1.447      0.148      -1.610       0.242\n",
      "unemp          0.0447      0.035      1.269      0.205      -0.024       0.114\n",
      "t              0.0504      0.136      0.372      0.710      -0.215       0.316\n",
      "ACA            0.2496      0.184      1.354      0.176      -0.112       0.611\n",
      "recession      0.3211      0.062      5.211      0.000       0.200       0.442\n",
      "measles        0.4209      0.210      2.002      0.045       0.009       0.833\n",
      "water          0.1580      0.121      1.306      0.191      -0.079       0.395\n",
      "H1N1           0.5280      0.161      3.284      0.001       0.213       0.843\n",
      "whoop         -0.1799      0.186     -0.969      0.332      -0.544       0.184\n",
      "AIDS          -0.6286      0.322     -1.954      0.051      -1.259       0.002\n",
      "==============================================================================\n",
      "Omnibus:                        5.480   Durbin-Watson:                   1.398\n",
      "Prob(Omnibus):                  0.065   Jarque-Bera (JB):                4.250\n",
      "Skew:                           0.648   Prob(JB):                        0.119\n",
      "Kurtosis:                       3.734   Cond. No.                     1.99e+07\n",
      "==============================================================================\n",
      "\n",
      "Warnings:\n",
      "[1] Standard Errors are heteroscedasticity robust (HC1)\n",
      "[2] The condition number is large, 1.99e+07. This might indicate that there are\n",
      "strong multicollinearity or other numerical problems.\n",
      "                              OLS Regression Results                             \n",
      "=================================================================================\n",
      "Dep. Variable:     PC_GDP_VOLUNTARY_diff   R-squared:                       0.986\n",
      "Model:                               OLS   Adj. R-squared:                  0.980\n",
      "Method:                    Least Squares   F-statistic:                     5167.\n",
      "Date:                   Sun, 13 Dec 2020   Prob (F-statistic):           2.33e-47\n",
      "Time:                           19:08:22   Log-Likelihood:                 40.757\n",
      "No. Observations:                     46   AIC:                            -51.51\n",
      "Df Residuals:                         31   BIC:                            -24.09\n",
      "Df Model:                             14                                         \n",
      "Covariance Type:                     HC1                                         \n",
      "==============================================================================\n",
      "                 coef    std err          z      P>|z|      [0.025      0.975]\n",
      "------------------------------------------------------------------------------\n",
      "const        -17.5026     14.078     -1.243      0.214     -45.096      10.091\n",
      "alc           -0.0752      0.095     -0.788      0.430      -0.262       0.112\n",
      "elderly        0.0620      0.081      0.762      0.446      -0.097       0.221\n",
      "income      3.456e-05    5.5e-05      0.628      0.530   -7.32e-05       0.000\n",
      "life_exp       0.4080      0.242      1.683      0.092      -0.067       0.883\n",
      "life_exp65    -0.7797      0.297     -2.626      0.009      -1.362      -0.198\n",
      "unemp          0.0221      0.018      1.205      0.228      -0.014       0.058\n",
      "t             -0.0270      0.087     -0.311      0.756      -0.197       0.143\n",
      "ACA           -5.6277      0.098    -57.409      0.000      -5.820      -5.436\n",
      "recession      0.1309      0.042      3.111      0.002       0.048       0.213\n",
      "measles        0.2732      0.120      2.273      0.023       0.038       0.509\n",
      "water          0.0144      0.064      0.223      0.823      -0.112       0.141\n",
      "H1N1           0.2577      0.092      2.788      0.005       0.077       0.439\n",
      "whoop         -0.0710      0.092     -0.774      0.439      -0.251       0.109\n",
      "AIDS          -0.4226      0.195     -2.165      0.030      -0.805      -0.040\n",
      "==============================================================================\n",
      "Omnibus:                        5.004   Durbin-Watson:                   1.731\n",
      "Prob(Omnibus):                  0.082   Jarque-Bera (JB):                3.876\n",
      "Skew:                           0.670   Prob(JB):                        0.144\n",
      "Kurtosis:                       3.475   Cond. No.                     1.99e+07\n",
      "==============================================================================\n",
      "\n",
      "Warnings:\n",
      "[1] Standard Errors are heteroscedasticity robust (HC1)\n",
      "[2] The condition number is large, 1.99e+07. This might indicate that there are\n",
      "strong multicollinearity or other numerical problems.\n"
     ]
    },
    {
     "name": "stderr",
     "output_type": "stream",
     "text": [
      "C:\\Users\\leeor\\anaconda3\\lib\\site-packages\\statsmodels\\base\\model.py:1830: ValueWarning: covariance of constraints does not have full rank. The number of constraints is 14, but rank is 11\n",
      "  warnings.warn('covariance of constraints does not have full '\n",
      "C:\\Users\\leeor\\anaconda3\\lib\\site-packages\\statsmodels\\base\\model.py:1830: ValueWarning: covariance of constraints does not have full rank. The number of constraints is 14, but rank is 11\n",
      "  warnings.warn('covariance of constraints does not have full '\n",
      "C:\\Users\\leeor\\anaconda3\\lib\\site-packages\\statsmodels\\base\\model.py:1830: ValueWarning: covariance of constraints does not have full rank. The number of constraints is 14, but rank is 11\n",
      "  warnings.warn('covariance of constraints does not have full '\n",
      "C:\\Users\\leeor\\anaconda3\\lib\\site-packages\\statsmodels\\base\\model.py:1830: ValueWarning: covariance of constraints does not have full rank. The number of constraints is 14, but rank is 11\n",
      "  warnings.warn('covariance of constraints does not have full '\n"
     ]
    }
   ],
   "source": [
    "diff = '_diff'\n",
    "diff2 = '_diff2'\n",
    "models_list = []\n",
    "\n",
    "for var in responses[:4]:\n",
    "    model = sm.OLS(full.loc[:len(full), var+diff], sm.add_constant(full.loc[:len(full), independent])).fit(cov_type='HC1')\n",
    "    print(model.summary())\n",
    "    models_list.append(model)"
   ]
  },
  {
   "cell_type": "code",
   "execution_count": 20,
   "metadata": {
    "scrolled": true
   },
   "outputs": [
    {
     "name": "stdout",
     "output_type": "stream",
     "text": [
      "PC_GDP_COMPULSORY_diff\n",
      "(-4.2872917141839375, 0.00046726826770870895)\n",
      "\n",
      "PC_GDP_OOPEXP_diff\n",
      "(-4.441354519713144, 0.00025061332988043336)\n",
      "\n",
      "PC_GDP_TOT_diff\n",
      "(-4.629583441248171, 0.00011388772588455262)\n",
      "\n",
      "PC_GDP_VOLUNTARY_diff\n",
      "(-4.246061526698728, 0.0005500888510791006)\n",
      "\n"
     ]
    },
    {
     "data": {
      "text/plain": [
       "'PC_GDP first difference data is stationary up until ACA but that is a single blip that is a change in regression.'"
      ]
     },
     "execution_count": 20,
     "metadata": {},
     "output_type": "execute_result"
    }
   ],
   "source": [
    "# testing first differences for stationarity\n",
    "\n",
    "# importing the Augmented Dickey-Fuller test from statsmodels package\n",
    "from statsmodels.tsa.stattools import adfuller\n",
    "\n",
    "for var in responses[:4]:\n",
    "    print(var+diff)\n",
    "    print(adfuller(x=full.loc[0:len(full)-5, var+diff].dropna())[0:2])\n",
    "    print('')\n",
    "    \n",
    "\n",
    "'''PC_GDP first difference data is stationary up until ACA but that is a single blip that is a change in regression.'''"
   ]
  },
  {
   "cell_type": "markdown",
   "metadata": {},
   "source": [
    "# Saving Full Dataset to CSV"
   ]
  },
  {
   "cell_type": "code",
   "execution_count": 21,
   "metadata": {},
   "outputs": [],
   "source": [
    "# outputting the data to a csv\n",
    "full.to_csv('full data.csv', index=False)"
   ]
  },
  {
   "cell_type": "markdown",
   "metadata": {},
   "source": [
    "# Data Summary Statistics"
   ]
  },
  {
   "cell_type": "code",
   "execution_count": 22,
   "metadata": {},
   "outputs": [],
   "source": [
    "# creating lists with the number of observations, the mean, the standard deviation, and the 5-number summary of each\n",
    "# independent variable and the variables of interest in the regression, then putting it all into a pandas DataFrame\n",
    "# that can be exported into a csv file and used in the paper more easily\n",
    "\n",
    "summary_stats = pd.DataFrame()\n",
    "\n",
    "for var in independent+[var+diff for var in responses[:4]]:\n",
    "    temp = []\n",
    "    temp = temp + [len(full)]\n",
    "    temp = temp + [full[var].mean()]\n",
    "    temp = temp + [full[var].std()]\n",
    "    temp = temp + np.quantile(full[var], [0, .25, .5, .75, 1]).tolist()\n",
    "    summary_stats[var] = temp\n",
    "\n",
    "summary_stats = summary_stats.transpose()\n",
    "summary_stats.columns = ['n', 'mean', 'standard deviation', 'min', '25 percentile', 'median', '75 percentile', 'max']\n",
    "# summary_stats = summary_stats.transpose()"
   ]
  },
  {
   "cell_type": "code",
   "execution_count": 23,
   "metadata": {},
   "outputs": [],
   "source": [
    "summary_stats.to_csv('summary stats.csv')"
   ]
  },
  {
   "cell_type": "markdown",
   "metadata": {},
   "source": [
    "# Regression Summaries and Plots"
   ]
  },
  {
   "cell_type": "code",
   "execution_count": 24,
   "metadata": {},
   "outputs": [
    {
     "data": {
      "text/html": [
       "Table 2: Results of equation (1) regression on each response variable<br><table style=\"text-align:center\"><tr><td colspan=\"5\" style=\"border-bottom: 1px solid black\"></td></tr><tr><td style=\"text-align:left\"></td><tr><td></td><td colspan=\"1\">PC GDP COMPULSORY</td><td colspan=\"1\">PC GDP OOPEXP</td><td colspan=\"1\">PC GDP TOT</td><td colspan=\"1\">PC GDP VOLUNTARY</td></tr><tr><td colspan=\"5\" style=\"border-bottom: 1px solid black\"></td></tr><tr><td style=\"text-align:left\">alc</td><td>-0.018<sup></sup></td><td>0.018<sup></sup></td><td>-0.093<sup></sup></td><td>-0.075<sup></sup></td></tr><tr><td style=\"text-align:left\"></td><td>(0.095)</td><td>(0.037)</td><td>(0.131)</td><td>(0.095)</td></tr><tr><td style=\"text-align:left\">elderly</td><td>-0.020<sup></sup></td><td>0.014<sup></sup></td><td>0.042<sup></sup></td><td>0.062<sup></sup></td></tr><tr><td style=\"text-align:left\"></td><td>(0.103)</td><td>(0.028)</td><td>(0.144)</td><td>(0.081)</td></tr><tr><td style=\"text-align:left\">income</td><td>-0.000<sup></sup></td><td>0.000<sup></sup></td><td>-0.000<sup></sup></td><td>0.000<sup></sup></td></tr><tr><td style=\"text-align:left\"></td><td>(0.000)</td><td>(0.000)</td><td>(0.000)</td><td>(0.000)</td></tr><tr><td style=\"text-align:left\">life_exp</td><td>-0.180<sup></sup></td><td>0.140<sup></sup></td><td>0.226<sup></sup></td><td>0.408<sup>*</sup></td></tr><tr><td style=\"text-align:left\"></td><td>(0.237)</td><td>(0.095)</td><td>(0.361)</td><td>(0.242)</td></tr><tr><td style=\"text-align:left\">life_exp65</td><td>0.094<sup></sup></td><td>-0.301<sup>***</sup></td><td>-0.684<sup></sup></td><td>-0.780<sup>***</sup></td></tr><tr><td style=\"text-align:left\"></td><td>(0.313)</td><td>(0.116)</td><td>(0.473)</td><td>(0.297)</td></tr><tr><td style=\"text-align:left\">unemp</td><td>0.023<sup></sup></td><td>0.006<sup></sup></td><td>0.045<sup></sup></td><td>0.022<sup></sup></td></tr><tr><td style=\"text-align:left\"></td><td>(0.022)</td><td>(0.005)</td><td>(0.035)</td><td>(0.018)</td></tr><tr><td style=\"text-align:left\">t</td><td>0.077<sup></sup></td><td>-0.007<sup></sup></td><td>0.050<sup></sup></td><td>-0.027<sup></sup></td></tr><tr><td style=\"text-align:left\"></td><td>(0.083)</td><td>(0.029)</td><td>(0.136)</td><td>(0.087)</td></tr><tr><td style=\"text-align:left\">ACA</td><td>5.877<sup>***</sup></td><td>-0.021<sup></sup></td><td>0.250<sup></sup></td><td>-5.628<sup>***</sup></td></tr><tr><td style=\"text-align:left\"></td><td>(0.125)</td><td>(0.028)</td><td>(0.184)</td><td>(0.098)</td></tr><tr><td style=\"text-align:left\">recession</td><td>0.191<sup>***</sup></td><td>0.047<sup>**</sup></td><td>0.321<sup>***</sup></td><td>0.131<sup>***</sup></td></tr><tr><td style=\"text-align:left\"></td><td>(0.045)</td><td>(0.019)</td><td>(0.062)</td><td>(0.042)</td></tr><tr><td style=\"text-align:left\">measles</td><td>0.147<sup></sup></td><td>0.039<sup></sup></td><td>0.421<sup>**</sup></td><td>0.273<sup>**</sup></td></tr><tr><td style=\"text-align:left\"></td><td>(0.158)</td><td>(0.046)</td><td>(0.210)</td><td>(0.120)</td></tr><tr><td style=\"text-align:left\">water</td><td>0.144<sup>*</sup></td><td>-0.051<sup>*</sup></td><td>0.158<sup></sup></td><td>0.014<sup></sup></td></tr><tr><td style=\"text-align:left\"></td><td>(0.086)</td><td>(0.028)</td><td>(0.121)</td><td>(0.064)</td></tr><tr><td style=\"text-align:left\">H1N1</td><td>0.269<sup>***</sup></td><td>0.015<sup></sup></td><td>0.528<sup>***</sup></td><td>0.258<sup>***</sup></td></tr><tr><td style=\"text-align:left\"></td><td>(0.099)</td><td>(0.028)</td><td>(0.161)</td><td>(0.092)</td></tr><tr><td style=\"text-align:left\">whoop</td><td>-0.108<sup></sup></td><td>-0.022<sup></sup></td><td>-0.180<sup></sup></td><td>-0.071<sup></sup></td></tr><tr><td style=\"text-align:left\"></td><td>(0.113)</td><td>(0.020)</td><td>(0.186)</td><td>(0.092)</td></tr><tr><td style=\"text-align:left\">AIDS</td><td>-0.206<sup></sup></td><td>-0.060<sup></sup></td><td>-0.629<sup>*</sup></td><td>-0.423<sup>**</sup></td></tr><tr><td style=\"text-align:left\"></td><td>(0.219)</td><td>(0.066)</td><td>(0.322)</td><td>(0.195)</td></tr><td colspan=\"5\" style=\"border-bottom: 1px solid black\"></td></tr><tr><td style=\"text-align: left\">Observations</td><td>46</td><td>46</td><td>46</td><td>46</td></tr><tr><td style=\"text-align: left\">R<sup>2</sup></td><td>0.985</td><td>0.521</td><td>0.575</td><td>0.986</td></tr><tr><td style=\"text-align: left\">Adjusted R<sup>2</sup></td><td>0.978</td><td>0.304</td><td>0.383</td><td>0.980</td></tr><tr><td style=\"text-align: left\">Residual Std. Error</td><td>0.127 (df=31)</td><td>0.043 (df=31)</td><td>0.201 (df=31)</td><td>0.122 (df=31)</td></tr><tr><td style=\"text-align: left\">F Statistic</td><td>3390.672<sup>***</sup> (df=14; 31)</td><td>23.151<sup>***</sup> (df=14; 31)</td><td>15.459<sup>***</sup> (df=14; 31)</td><td>5166.949<sup>***</sup> (df=14; 31)</td></tr><tr><td colspan=\"5\" style=\"border-bottom: 1px solid black\"></td></tr><tr><td style=\"text-align: left\">Note:</td>\n",
       " <td colspan=\"4\" style=\"text-align: right\">\n",
       "  <sup>*</sup>p&lt;0.1;\n",
       "  <sup>**</sup>p&lt;0.05;\n",
       "  <sup>***</sup>p&lt;0.01\n",
       " </td></tr></table>"
      ],
      "text/plain": [
       "<stargazer.stargazer.Stargazer at 0x198cb478580>"
      ]
     },
     "execution_count": 24,
     "metadata": {},
     "output_type": "execute_result"
    }
   ],
   "source": [
    "models_column_names = [name.replace('_', ' ') for name in responses[:4]]\n",
    "\n",
    "models_results = Stargazer(models_list)\n",
    "models_results.custom_columns(models_column_names, [1,1,1,1])\n",
    "models_results.show_model_numbers(False)\n",
    "models_results.title('Table 2: Results of equation (1) regression on each response variable')\n",
    "models_results.covariate_order(independent)\n",
    "\n",
    "models_results"
   ]
  },
  {
   "cell_type": "code",
   "execution_count": 25,
   "metadata": {},
   "outputs": [],
   "source": [
    "with open('results html.html', 'w') as f:\n",
    "    f.write(models_results.render_html())"
   ]
  },
  {
   "cell_type": "code",
   "execution_count": 26,
   "metadata": {},
   "outputs": [
    {
     "name": "stdout",
     "output_type": "stream",
     "text": [
      "PC_GDP_COMPULSORY_diff\n",
      "0.4113690366718118\n",
      "\n",
      "PC_GDP_VOLUNTARY_diff\n",
      "0.3740171146023046\n",
      "\n"
     ]
    }
   ],
   "source": [
    "independent2 = col_names + interest\n",
    "\n",
    "for var in responses[[0, 3]]:\n",
    "    name = var+diff\n",
    "    print(name)\n",
    "    model1 = sm.OLS(full.loc[:len(full), name], sm.add_constant(full.loc[:len(full), independent])).fit(cov_type='HC1')\n",
    "    model2 = sm.OLS(full.loc[:len(full), name], sm.add_constant(full.loc[:len(full), independent2])).fit(cov_type='HC1')\n",
    "    print(model1.rsquared - model2.rsquared)\n",
    "    print('')"
   ]
  },
  {
   "cell_type": "code",
   "execution_count": null,
   "metadata": {},
   "outputs": [],
   "source": []
  }
 ],
 "metadata": {
  "kernelspec": {
   "display_name": "Python 3",
   "language": "python",
   "name": "python3"
  },
  "language_info": {
   "codemirror_mode": {
    "name": "ipython",
    "version": 3
   },
   "file_extension": ".py",
   "mimetype": "text/x-python",
   "name": "python",
   "nbconvert_exporter": "python",
   "pygments_lexer": "ipython3",
   "version": "3.8.3"
  },
  "toc": {
   "base_numbering": 1,
   "nav_menu": {},
   "number_sections": true,
   "sideBar": true,
   "skip_h1_title": false,
   "title_cell": "Table of Contents",
   "title_sidebar": "Contents",
   "toc_cell": false,
   "toc_position": {},
   "toc_section_display": true,
   "toc_window_display": false
  }
 },
 "nbformat": 4,
 "nbformat_minor": 4
}
